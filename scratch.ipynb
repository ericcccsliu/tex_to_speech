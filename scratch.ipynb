{
 "cells": [
  {
   "cell_type": "code",
   "execution_count": 10,
   "id": "1e0d329b",
   "metadata": {
    "ExecuteTime": {
     "end_time": "2024-03-02T18:39:19.775440Z",
     "start_time": "2024-03-02T18:39:19.765440Z"
    }
   },
   "outputs": [
    {
     "name": "stdout",
     "output_type": "stream",
     "text": [
      "The dotenv extension is already loaded. To reload it, use:\n",
      "  %reload_ext dotenv\n"
     ]
    }
   ],
   "source": [
    "%load_ext dotenv\n",
    "%dotenv"
   ]
  },
  {
   "cell_type": "code",
   "execution_count": 122,
   "id": "3f841392",
   "metadata": {
    "ExecuteTime": {
     "end_time": "2024-03-02T19:55:46.603857Z",
     "start_time": "2024-03-02T19:55:46.327750Z"
    }
   },
   "outputs": [],
   "source": [
    "import requests\n",
    "from bs4 import BeautifulSoup\n",
    "import re\n",
    "\n",
    "from openai import OpenAI\n",
    "import os\n",
    "from pathlib import Path\n",
    "from tqdm import tqdm\n",
    "from pydub import AudioSegment"
   ]
  },
  {
   "cell_type": "code",
   "execution_count": 123,
   "id": "e07bf39b",
   "metadata": {
    "ExecuteTime": {
     "end_time": "2024-03-02T19:55:46.609151Z",
     "start_time": "2024-03-02T19:55:46.606343Z"
    }
   },
   "outputs": [],
   "source": [
    "OPENAI_API_KEY = os.getenv('OPENAI_API_KEY')"
   ]
  },
  {
   "cell_type": "code",
   "execution_count": 14,
   "id": "ece3f126",
   "metadata": {
    "ExecuteTime": {
     "end_time": "2024-03-02T18:39:40.836419Z",
     "start_time": "2024-03-02T18:39:40.793629Z"
    }
   },
   "outputs": [],
   "source": [
    "client = OpenAI(\n",
    "    api_key=OPENAI_API_KEY\n",
    ")"
   ]
  },
  {
   "cell_type": "markdown",
   "id": "6c51c5d5",
   "metadata": {
    "ExecuteTime": {
     "end_time": "2024-03-02T18:40:04.322948Z",
     "start_time": "2024-03-02T18:40:04.317587Z"
    }
   },
   "source": [
    "## prompts"
   ]
  },
  {
   "cell_type": "code",
   "execution_count": 20,
   "id": "30f33e87",
   "metadata": {
    "ExecuteTime": {
     "end_time": "2024-03-02T18:45:10.467482Z",
     "start_time": "2024-03-02T18:45:10.462710Z"
    }
   },
   "outputs": [],
   "source": [
    "system_prompt = f\"\"\"You are a large language model that is an expert at taking scientific and mathematical research papers, typeset in LaTeX, and transcribing them in spoken English, for the purpose of generating audio content. Please transcribe the following paper, typeset in LaTeX, into a format that will sound coherent when read by a text-to-speech program.\"\"\""
   ]
  },
  {
   "cell_type": "markdown",
   "id": "d551fd6a",
   "metadata": {},
   "source": [
    "Please take the following LaTeX code and transcribe all content into a format optimized for text-to-speech. All text content should be preserved or transcribed into a easily readable format."
   ]
  },
  {
   "cell_type": "code",
   "execution_count": 130,
   "id": "077c80db",
   "metadata": {
    "ExecuteTime": {
     "end_time": "2024-03-02T20:03:52.373231Z",
     "start_time": "2024-03-02T20:03:52.368646Z"
    }
   },
   "outputs": [],
   "source": [
    "system_prompt = r\"\"\"I want to generate a podcast from LaTeX code. Please take the following LaTeX code and transcribe all content into a format optimized for text-to-speech. Do not make any effort to summarize or compress content–all original words by the author must be preserved. All text content should be preserved or transcribed into a easily readable format. Equations and math should be transcribed such that they are human readable in text. For example, $a^2$ should be transcribed as 'a squared'. Furthermore, all commands should also be transcribed to readable text. For example, commands such as \\section and \\title should be read as 'section' and 'title' respectively, and \\cite or \\citet should transcribe the citation as an in-text citation. Figures must be omitted in their entirety.\"\"\""
   ]
  },
  {
   "cell_type": "code",
   "execution_count": 154,
   "id": "94d5ec48",
   "metadata": {
    "ExecuteTime": {
     "end_time": "2024-03-02T21:26:53.431565Z",
     "start_time": "2024-03-02T21:26:53.424280Z"
    }
   },
   "outputs": [],
   "source": [
    "system_prompt = r\"\"\"I want to generate a podcast from LaTeX code. Please take the following LaTeX code and transcribe all content into a format optimized for text-to-speech. Do not make any effort to summarize or compress content–all original words by the author must be preserved. All text content should be preserved or transcribed into a easily readable format. Equations and math should be transcribed such that they are human readable in text. For example, $a^2$ should be transcribed as 'a squared'. Furthermore, all commands should also be transcribed to readable text. For example, commands such as \\section and \\title should be read as 'section' and 'title' respectively, and \\cite or \\citet should transcribe the citation as an in-text citation. Figures, tables, and comments must be omitted in their entirety.\"\"\""
   ]
  },
  {
   "cell_type": "code",
   "execution_count": 155,
   "id": "71d9db6f",
   "metadata": {
    "ExecuteTime": {
     "end_time": "2024-03-02T21:26:53.853608Z",
     "start_time": "2024-03-02T21:26:53.847057Z"
    }
   },
   "outputs": [
    {
     "name": "stdout",
     "output_type": "stream",
     "text": [
      "I want to generate a podcast from LaTeX code. Please take the following LaTeX code and transcribe all content into a format optimized for text-to-speech. Do not make any effort to summarize or compress content–all original words by the author must be preserved. All text content should be preserved or transcribed into a easily readable format. Equations and math should be transcribed such that they are human readable in text. For example, $a^2$ should be transcribed as 'a squared'. Furthermore, all commands should also be transcribed to readable text. For example, commands such as \\section and \\title should be read as 'section' and 'title' respectively, and \\cite or \\citet should transcribe the citation as an in-text citation. Figures, tables, and comments must be omitted in their entirety.\n"
     ]
    }
   ],
   "source": [
    "print(system_prompt)"
   ]
  },
  {
   "cell_type": "markdown",
   "id": "5c69d0b3",
   "metadata": {
    "ExecuteTime": {
     "end_time": "2024-03-02T18:51:48.151253Z",
     "start_time": "2024-03-02T18:51:48.147777Z"
    }
   },
   "source": [
    "#### chonk"
   ]
  },
  {
   "cell_type": "code",
   "execution_count": 43,
   "id": "e252fa95",
   "metadata": {
    "ExecuteTime": {
     "end_time": "2024-03-02T19:05:02.245798Z",
     "start_time": "2024-03-02T19:05:02.204866Z"
    }
   },
   "outputs": [],
   "source": [
    "chonk = input(\"paste raw LaTeX here:\")"
   ]
  },
  {
   "cell_type": "markdown",
   "id": "5c4e16df",
   "metadata": {},
   "source": [
    "#### endchonk"
   ]
  },
  {
   "cell_type": "code",
   "execution_count": 55,
   "id": "3bf4dd1a",
   "metadata": {
    "ExecuteTime": {
     "end_time": "2024-03-02T19:09:58.986745Z",
     "start_time": "2024-03-02T19:09:58.975879Z"
    }
   },
   "outputs": [],
   "source": [
    "minichonk = r\"\"\"\\maketitle\n",
    "\n",
    "\\begin{abstract}\n",
    "Probing classifiers have emerged as one of the prominent methodologies for interpreting and analyzing deep neural network models of natural language processing. The basic idea is simple --- a classifier is trained to predict some linguistic property from a model's representations --- and has been used to examine a wide variety of models and properties. However, recent studies have demonstrated various methodological limitations of this approach. This article critically reviews the probing classifiers framework, highlighting their promises, shortcomings, and advances. \n",
    "\\end{abstract}\n",
    "\n",
    "\\section{Introduction}\n",
    "\n",
    "\\looseness=-1\n",
    "The opaqueness of deep neural network models of natural language processing (NLP) has spurred a line of research into interpreting and analyzing them. \n",
    "Analysis methods may aim to answer questions about a model's structure or its decisions. For instance, one might  ask which parts of a neural neural model are responsible for certain linguistic properties, or which parts of the input led the model to make a certain decision. \n",
    "A common methodology to answer questions about the structure of models is to associate internal representations with external properties, by training a classifier on said representations that predicts a given property. This framework, known as \\mbox{\\textbf{probing classifiers}}, has emerged as a prominent analysis strategy in many studies of NLP models.\\footnote{For an overviews of analysis methods in NLP, see the survey by \\citet{belinkov-glass-2019-analysis}, as well as the tutorials by \\citet{belinkov-etal-2020-interpretability} and \\citet{wallace-etal-2020-interpreting}. For an overview of explanation methods in particular, see the survey by \\citet{danilevsky-etal-2020-survey}.}  \n",
    "\"\"\""
   ]
  },
  {
   "cell_type": "code",
   "execution_count": 133,
   "id": "7ca53cc6",
   "metadata": {
    "ExecuteTime": {
     "end_time": "2024-03-02T20:05:21.754723Z",
     "start_time": "2024-03-02T20:05:21.739813Z"
    }
   },
   "outputs": [],
   "source": [
    "minichonk = r\"\"\"\\section{The Probing Classifiers Framework} \\label{sec:framework} \n",
    "\n",
    "\n",
    "\n",
    "On the surface, the probing classifiers idea seems straightforward. We take a model that was trained on some task, such as a language model. We generate representations using the model, and train another classifier that takes the representations and predicts some property. If the classifier performs well, we say that the model has learned information relevant for the property. \n",
    "%\n",
    "However, upon closer inspection, it turns out that much more is involved here. To see this, we now define this framework a bit more formally. \n",
    "\n",
    "Let us denote by $f : x \\mapsto \\hat{y}$ a model that maps input $x$ to output $\\hat{y}$. We call this model the original model. It is trained on some annotated dataset $\\mathcal{D}_O = \\{x^{(i)}, y^{(i)}\\}$, which we refer to as the original dataset. Its performance is evaluated by some measure, denoted $\\textsc{Perf}(f, \\mathcal{D}_O)$.\n",
    "The function $f$ is typically a deep neural network that generates intermediate representations of $x$, for example $f_l(x)$ may denote the representation of $x$ at layer $l$ of $f$.\\footnote{We use $f_l(x)$ to refer more generally to any intermediate output of $f$ when applied to $x$, so the framework includes analyses of other model components, such as attention weights \\cite{clark-etal-2019-bert}.} \n",
    "A probing classifier $g : f_l(x) \\mapsto \\hat{z}$ maps intermediate representations to some property $\\hat{z}$, which is typically some linguistic feature of interest. \n",
    "As a concrete example, $f$ might be a sentiment analysis model, mapping a text $x$ to a sentiment label  $y$, while $g$ might be a classifier mapping intermediate representations $f_l(x)$ to part-of-speech tags $z$.\n",
    "The classifier $g$ is trained and evaluated on some annotated dataset $\\mathcal{D}_P = \\{x^{(i)}, z^{(i)}\\}$, and some performance measure $\\textsc{Perf}(g, f, \\mathcal{D}_O, \\mathcal{D}_P)$ (e.g., accuracy) is reported. Note that the performance measure depends on the probing classifier $g$ and the probing dataset $\\mathcal{D}_P$, as well as on the original model $f$ and the original dataset $\\mathcal{D_O}$.  \n",
    "\n",
    "\n",
    "From an information theoretic perspective, training the probing classifier $g$ can be seen as estimating the mutual information between the intermediate representations $f_l(x)$ and the property $z$ (\\citealt[p. 42]{belinkov:2018:phdthesis}; \\citealt{pimentel-etal-2020-information}; \\citealt{zhu-rudzicz-2020-information}), which we write $\\mathrm{I}(\\mathbf{z} ; \\mathbf{h})$, where  $\\mathbf{z}$ is a random variable ranging over properties $z$ and $\\mathbf{h}$ is a random variable ranging over representations $f_l(x)$.  \n",
    "\n",
    "The above careful definition of the probing classifiers framework reveals that it is comprised of multiple concepts and components, depicted in \\Cref{fig:probing-components-basic}.  The choice of each such component, and the interactions between them, lead to non-trivial questions regarding the design and implementation of any probing classifier experiment. Before we turn to these considerations   in \\Cref{sec:shortcomings-advances}, we briefly review some history and promises of probing classifiers in the next section. \n",
    "\n",
    "\n",
    "\\begin{figure}[h]\n",
    "    \\centering\n",
    "    % \\begin{framed}\n",
    "    \\begin{subfigure}[b]{\\textwidth}\n",
    "    \\centering\n",
    "        \\begin{tabular}{l @{\\hskip 1em} l } \n",
    "        % \\centering\n",
    "        \\toprule\n",
    "         $x \\mapsto y$ & Original task \\\\\n",
    "         $\\mathcal{D}_O = \\{x^{(i)}, y^{(i)}\\} $ & Original dataset \\\\\n",
    "         $f : x \\mapsto y $ & Original model \\\\\n",
    "         $\\textsc{Perf}(f, \\mathcal{D}_O)$ & Performance on the original task \\\\\n",
    "         $f_l(x)$ & Representations of $x$ from $f$\\\\\n",
    "         $f_l(x) \\mapsto z$ & Probing task \\\\\n",
    "         $\\mathcal{D}_P = \\{x^{(i)}, z^{(i)}\\} $ & Probing dataset \\\\\n",
    "         $g : f_l(x) \\mapsto z$ & Probing classifier \\\\\n",
    "         $\\textsc{Perf}(g, f, \\mathcal{D}_O, \\mathcal{D}_P) $ & Probing performance  \\\\ \n",
    "         \\bottomrule\n",
    "        \\end{tabular}\n",
    "         \\caption{Basic Components.}\n",
    "         \\label{fig:probing-components-basic}\n",
    "     \\end{subfigure}\n",
    "     \\begin{subfigure}[b]{\\textwidth}\n",
    "     \\centering\n",
    "        \\begin{tabular}{l @{\\hskip 1em} l } \n",
    "        \\toprule          \n",
    "         $\\bar{f} : x \\mapsto y$ & Skyline model or upper bound \\\\ \n",
    "         $\\underline{f} : x \\mapsto y$ & Baseline model \\\\          \n",
    "         $x \\mapsto y_{Rand}$ & Control task \\cite{hewitt-liang-2019-designing} \\\\ \n",
    "         $c : f_l(x) \\mapsto c(f_l(x)) $ & Control function \\cite{pimentel-etal-2020-information} \\\\ \n",
    "         $\\mathcal{D}_{P,Rand}$ & Control task dataset \\cite{hewitt-liang-2019-designing} \\\\ \n",
    "         $\\mathcal{D}_{O,z}$ & Control dataset \\cite{ravichander:2021:eacl} \\\\          \n",
    "         $\\textsc{Sel}(g, f, \\mathcal{D}_O, \\mathcal{D}_P, \\mathcal{D}_{P,Rand})$ & Probing selectivity \\cite{hewitt-liang-2019-designing} \\\\\n",
    "         $ \\mathcal{G}(\\mathbf{z}, \\mathbf{h}, c) $ & Information gain w.r.t control function \\cite{pimentel-etal-2020-information} \\\\ \n",
    "         $\\textsc{MDL}(g, f, \\mathcal{D}_O, \\mathcal{D}_P)$ & Probe minimum description length \\cite{voita-titov-2020-information} \\\\ \n",
    "         $\\tilde{f}_l(x)$ & Representations of $x$ from $f$, after an intervention \\\\ \n",
    "         \\bottomrule \n",
    "        \\end{tabular}\n",
    "        \\caption{Additional Components.}\n",
    "        \\label{fig:probing-components-extended}\n",
    "        \\vspace{-3pt}\n",
    "    \\end{subfigure}\n",
    "    \\caption{Components comprising the probing classifiers framework.}\n",
    "    \\label{fig:probing-components}\n",
    "    \\vspace{-19pt}\n",
    "\\end{figure}\n",
    "\n",
    "\n",
    "\"\"\""
   ]
  },
  {
   "cell_type": "code",
   "execution_count": null,
   "id": "0cad6dc2",
   "metadata": {},
   "outputs": [],
   "source": []
  },
  {
   "cell_type": "code",
   "execution_count": 134,
   "id": "f3ddf3bf",
   "metadata": {
    "ExecuteTime": {
     "end_time": "2024-03-02T20:05:34.095590Z",
     "start_time": "2024-03-02T20:05:25.286003Z"
    }
   },
   "outputs": [],
   "source": [
    "chat_completion = client.chat.completions.create(\n",
    "    messages=[\n",
    "        {\"role\": \"system\", \"content\": system_prompt},\n",
    "        {\"role\": \"user\", \"content\": minichonk}\n",
    "    ],\n",
    "    model=\"gpt-3.5-turbo-0125\",\n",
    "    max_tokens=4096,\n",
    "    n=1\n",
    ")"
   ]
  },
  {
   "cell_type": "code",
   "execution_count": 135,
   "id": "505f3114",
   "metadata": {
    "ExecuteTime": {
     "end_time": "2024-03-02T20:05:34.105615Z",
     "start_time": "2024-03-02T20:05:34.099636Z"
    }
   },
   "outputs": [
    {
     "name": "stdout",
     "output_type": "stream",
     "text": [
      "The Probing Classifiers Framework\n",
      "\n",
      "On the surface, the probing classifiers idea seems straightforward. We take a model that was trained on some task, such as a language model. We generate representations using the model, and train another classifier that takes the representations and predicts some property. If the classifier performs well, we say that the model has learned information relevant for the property.\n",
      "\n",
      "However, upon closer inspection, it turns out that much more is involved here. To see this, we now define this framework a bit more formally.\n",
      "\n",
      "Let us denote by f: x maps to y-hat a model that maps input x to output y-hat. We call this model the original model. It is trained on some annotated dataset D_O = {x^(i), y^(i)}, which we refer to as the original dataset. Its performance is evaluated by some measure, denoted Perf(f, D_O). \n",
      "The function f is typically a deep neural network that generates intermediate representations of x, for example f_l(x) may denote the representation of x at layer l of f. \n",
      "A probing classifier g: f_l(x) maps to z-hat maps intermediate representations to some property z-hat, which is typically some linguistic feature of interest. \n",
      "As a concrete example, f might be a sentiment analysis model, mapping a text x to a sentiment label y, while g might be a classifier mapping intermediate representations f_l(x) to part-of-speech tags z.\n",
      "The classifier g is trained and evaluated on some annotated dataset D_P = {x^(i), z^(i)}, and some performance measure Perf(g, f, D_O, D_P) (e.g., accuracy) is reported. Note that the performance measure depends on the probing classifier g and the probing dataset D_P, as well as on the original model f and the original dataset D_O.\n",
      "\n",
      "From an information theoretic perspective, training the probing classifier g can be seen as estimating the mutual information between the intermediate representations f_l(x) and the property z (Belinkov, 2018; Pimentel et al., 2020; Zhu and Rudzicz, 2020), which we write I(z-hat ; h-hat), where z-hat is a random variable ranging over properties z and h-hat is a random variable ranging over representations f_l(x).\n",
      "\n",
      "The above careful definition of the probing classifiers framework reveals that it is comprised of multiple concepts and components, depicted in Figure 1. The choice of each such component, and the interactions between them, lead to non-trivial questions regarding the design and implementation of any probing classifier experiment. Before we turn to these considerations in Section 2, we briefly review some history and promises of probing classifiers in the next section.\n"
     ]
    }
   ],
   "source": [
    "\n",
    "print(chat_completion.choices[0].message.content)"
   ]
  },
  {
   "cell_type": "code",
   "execution_count": 52,
   "id": "7cc85ef5",
   "metadata": {
    "ExecuteTime": {
     "end_time": "2024-03-02T19:07:31.923315Z",
     "start_time": "2024-03-02T19:07:31.908800Z"
    }
   },
   "outputs": [
    {
     "data": {
      "text/plain": [
       "3420"
      ]
     },
     "execution_count": 52,
     "metadata": {},
     "output_type": "execute_result"
    }
   ],
   "source": [
    "len(chat_completion.choices[0].message.content)"
   ]
  },
  {
   "cell_type": "code",
   "execution_count": 54,
   "id": "d57098d6",
   "metadata": {
    "ExecuteTime": {
     "end_time": "2024-03-02T19:07:52.663513Z",
     "start_time": "2024-03-02T19:07:52.657912Z"
    }
   },
   "outputs": [
    {
     "data": {
      "text/plain": [
       "474"
      ]
     },
     "execution_count": 54,
     "metadata": {},
     "output_type": "execute_result"
    }
   ],
   "source": [
    "len(chat_completion.choices[0].message.content.split(' '))"
   ]
  },
  {
   "cell_type": "code",
   "execution_count": 64,
   "id": "c07609cf",
   "metadata": {
    "ExecuteTime": {
     "end_time": "2024-03-02T19:23:22.484472Z",
     "start_time": "2024-03-02T19:23:22.479531Z"
    }
   },
   "outputs": [],
   "source": [
    "text_for_speech = r\"\"\"Taking an information-theoretic perspective on probing, Pimentel et al. (2020) proposed to use control functions instead of control tasks in order to compare probes. Their control function is any function applied to the representation, c : f_l(x) maps to c(f_l(x)), and they compare the information gain, which is the difference in mutual information between the property z and the representation before and after applying the control function: G(z, h, c) = I(z ; h) - I(z ; c(h)).\n",
    "While Pimentel et al. (2020) posit that their control function are a better criterion than the control tasks of Hewitt and Liang (2019), subsequent work showed that the two criteria are almost equivalent, both theoretically and empirically. \"\"\""
   ]
  },
  {
   "cell_type": "code",
   "execution_count": 68,
   "id": "77152194",
   "metadata": {
    "ExecuteTime": {
     "end_time": "2024-03-02T19:24:49.577669Z",
     "start_time": "2024-03-02T19:24:49.563471Z"
    }
   },
   "outputs": [
    {
     "data": {
      "text/plain": [
       "'Taking an information-theoretic perspective on probing, Pimentel et al. (2020) proposed to use control functions instead of control tasks in order to compare probes. Their control function is any function applied to the representation, c : f_l(x) maps to c(f_l(x)), and they compare the information gain, which is the difference in mutual information between the property z and the representation before and after applying the control function: G(z, h, c) = I(z ; h) - I(z ; c(h)).\\nWhile Pimentel et al. (2020) posit that their control function are a better criterion than the control tasks of Hewitt and Liang (2019), subsequent work showed that the two criteria are almost equivalent, both theoretically and empirically. '"
      ]
     },
     "execution_count": 68,
     "metadata": {},
     "output_type": "execute_result"
    }
   ],
   "source": [
    "text_for_speech"
   ]
  },
  {
   "cell_type": "code",
   "execution_count": 67,
   "id": "ed50da6e",
   "metadata": {
    "ExecuteTime": {
     "end_time": "2024-03-02T19:23:53.188197Z",
     "start_time": "2024-03-02T19:23:44.281998Z"
    }
   },
   "outputs": [
    {
     "name": "stderr",
     "output_type": "stream",
     "text": [
      "/var/folders/qd/7_02v1xx1nx_p2rj9mxjqzzh0000gn/T/ipykernel_31469/155931865.py:8: DeprecationWarning: Due to a bug, this method doesn't actually stream the response content, `.with_streaming_response.method()` should be used instead\n",
      "  response.stream_to_file(speech_file_path)\n"
     ]
    }
   ],
   "source": [
    "speech_file_path = \"speech.mp3\"\n",
    "response = client.audio.speech.create(\n",
    "  model=\"tts-1\",\n",
    "  voice=\"alloy\",\n",
    "  input=text_for_speech\n",
    ")\n",
    "\n",
    "response.to_file(speech_file_path)"
   ]
  },
  {
   "cell_type": "markdown",
   "id": "269d6431",
   "metadata": {},
   "source": [
    "## putting it together"
   ]
  },
  {
   "cell_type": "code",
   "execution_count": 114,
   "id": "ef9a6179",
   "metadata": {
    "ExecuteTime": {
     "end_time": "2024-03-02T19:47:40.215508Z",
     "start_time": "2024-03-02T19:47:40.209976Z"
    }
   },
   "outputs": [],
   "source": [
    "def split_latex_by_section(latex_content):\n",
    "    # Pattern to match section and subsection commands\n",
    "    pattern = r'(?=(\\\\section\\{.*?\\}|\\\\subsection\\{.*?\\}))'\n",
    "    \n",
    "    # Split the content by the pattern and filter out any empty strings\n",
    "    parts = [part for part in re.split(pattern, latex_content) if part.strip()]\n",
    "    \n",
    "    return parts"
   ]
  },
  {
   "cell_type": "code",
   "execution_count": 115,
   "id": "7f9d6af3",
   "metadata": {
    "ExecuteTime": {
     "end_time": "2024-03-02T19:47:40.633311Z",
     "start_time": "2024-03-02T19:47:40.626254Z"
    }
   },
   "outputs": [],
   "source": [
    "def split_latex_by_section(latex_content):\n",
    "    # Pattern to match section and subsection commands\n",
    "    pattern = r'(\\\\section\\{.*?\\}|\\\\subsection\\{.*?\\})'\n",
    "    \n",
    "    # Split the content by the pattern, keeping the delimiters\n",
    "    parts = re.split(pattern, latex_content)\n",
    "    \n",
    "    # Combine each command with its following content\n",
    "    combined_parts = []\n",
    "    for i in range(1, len(parts) - 1, 2):\n",
    "        combined_parts.append(parts[i] + parts[i + 1])\n",
    "    \n",
    "    # Add the last part if it doesn't end with a command\n",
    "    if len(parts) % 2 == 1:\n",
    "        combined_parts.append(parts[-1])\n",
    "    \n",
    "    return combined_parts"
   ]
  },
  {
   "cell_type": "code",
   "execution_count": 116,
   "id": "32f00f5c",
   "metadata": {
    "ExecuteTime": {
     "end_time": "2024-03-02T19:47:41.552808Z",
     "start_time": "2024-03-02T19:47:41.548340Z"
    }
   },
   "outputs": [],
   "source": [
    "sections = split_latex_by_section(chonk)"
   ]
  },
  {
   "cell_type": "code",
   "execution_count": 117,
   "id": "c870b3ba",
   "metadata": {
    "ExecuteTime": {
     "end_time": "2024-03-02T19:49:27.961298Z",
     "start_time": "2024-03-02T19:47:41.935590Z"
    }
   },
   "outputs": [
    {
     "name": "stderr",
     "output_type": "stream",
     "text": [
      "100%|█████████████████████████████████████████████| 11/11 [01:46<00:00,  9.64s/it]\n"
     ]
    }
   ],
   "source": [
    "text = \"\"\n",
    "for section in tqdm(sections): \n",
    "    chat_completion = client.chat.completions.create(\n",
    "        messages=[\n",
    "            {\"role\": \"system\", \"content\": system_prompt},\n",
    "            {\"role\": \"user\", \"content\": section}\n",
    "        ],\n",
    "        model=\"gpt-3.5-turbo-0125\",\n",
    "        max_tokens=4096,\n",
    "        n=1\n",
    "    )\n",
    "    snippet = chat_completion.choices[0].message.content\n",
    "    text += f\"\"\"{snippet}\n",
    "    \n",
    "    \"\"\""
   ]
  },
  {
   "cell_type": "code",
   "execution_count": 146,
   "id": "384afd70",
   "metadata": {
    "ExecuteTime": {
     "end_time": "2024-03-02T20:35:50.502264Z",
     "start_time": "2024-03-02T20:28:16.883622Z"
    }
   },
   "outputs": [
    {
     "name": "stderr",
     "output_type": "stream",
     "text": [
      "  0%|                                                  | 0/11 [00:00<?, ?it/s]/var/folders/qd/7_02v1xx1nx_p2rj9mxjqzzh0000gn/T/ipykernel_31469/2814344313.py:8: DeprecationWarning: Due to a bug, this method doesn't actually stream the response content, `.with_streaming_response.method()` should be used instead\n",
      "  response.stream_to_file(speech_file_path)\n",
      "100%|█████████████████████████████████████████| 11/11 [07:11<00:00, 39.26s/it]\n"
     ]
    },
    {
     "data": {
      "text/plain": [
       "<_io.BufferedRandom name='belinkov.mp3'>"
      ]
     },
     "execution_count": 146,
     "metadata": {},
     "output_type": "execute_result"
    }
   ],
   "source": [
    "\n",
    "def generate_audio(snippet, index):\n",
    "    speech_file_path = f\"snippet_{index}.mp3\"\n",
    "    response = client.audio.speech.create(\n",
    "        model=\"tts-1\",\n",
    "        voice=\"alloy\",\n",
    "        input=snippet\n",
    "    )\n",
    "    response.stream_to_file(speech_file_path)\n",
    "    return speech_file_path\n",
    "\n",
    "def generate_snippet(section):\n",
    "    chat_completion = client.chat.completions.create(\n",
    "        messages=[\n",
    "            {\"role\": \"system\", \"content\": system_prompt},\n",
    "            {\"role\": \"user\", \"content\": section}\n",
    "        ],\n",
    "        model=\"gpt-3.5-turbo-0125\",\n",
    "        max_tokens=4096,\n",
    "        n=1\n",
    "    )\n",
    "    snippet = chat_completion.choices[0].message.content\n",
    "    return snippet\n",
    "\n",
    "# Create a list to store the paths of the individual audio files\n",
    "audio_file_paths = []\n",
    "\n",
    "text = \"\"\n",
    "\n",
    "for i, section in enumerate(tqdm(sections)):\n",
    "    # Generate the chat completion\n",
    "    snippet = generate_snippet(section)\n",
    "    \n",
    "    # Check if the snippet is too long\n",
    "    if len(snippet) > 4096:\n",
    "        # Split the snippet at an arbitrary newline\n",
    "        split_index = snippet.find('\\n', len(snippet) // 4)\n",
    "        snippet_part1 = snippet[:split_index]\n",
    "        snippet_part2 = snippet[split_index + 1:]\n",
    "        \n",
    "        # rerun cleaning for both parts\n",
    "        snippet_part1 = generate_snippet(snippet_part1)\n",
    "        snippet_part2 = generate_snippet(snippet_part2)\n",
    "        \n",
    "        # Generate audio for both parts\n",
    "        audio_file_paths.append(generate_audio(snippet_part1, f\"{i}_1\"))\n",
    "        audio_file_paths.append(generate_audio(snippet_part2, f\"{i}_2\"))\n",
    "        \n",
    "        text += f\"{snippet_part1} \\n\\n\"\n",
    "        text += f\"{snippet_part2} \\n\\n\"\n",
    "    else:\n",
    "        # Generate audio for the snippet\n",
    "        audio_file_paths.append(generate_audio(snippet, i))\n",
    "        text += f\"{snippet} \\n\\n\"\n",
    "\n",
    "# Concatenate all the audio files\n",
    "combined_audio = AudioSegment.empty()\n",
    "for path in audio_file_paths:\n",
    "    audio = AudioSegment.from_mp3(path)\n",
    "    combined_audio += audio\n",
    "\n",
    "# Export the combined audio to a single MP3 file\n",
    "combined_audio.export(\"belinkov.mp3\", format=\"mp3\")"
   ]
  },
  {
   "cell_type": "code",
   "execution_count": 147,
   "id": "eb8ece69",
   "metadata": {
    "ExecuteTime": {
     "end_time": "2024-03-02T20:35:57.776135Z",
     "start_time": "2024-03-02T20:35:57.767378Z"
    }
   },
   "outputs": [
    {
     "name": "stdout",
     "output_type": "stream",
     "text": [
      "Title: Introduction\n",
      "\n",
      "The opaqueness of deep neural network models of natural language processing (NLP) has spurred a line of research into interpreting and analyzing them. Analysis methods may aim to answer questions about a model's structure or its decisions. For instance, one might ask which parts of a neural model are responsible for certain linguistic properties, or which parts of the input led the model to make a certain decision. A common methodology to answer questions about the structure of models is to associate internal representations with external properties, by training a classifier on said representations that predicts a given property. This framework, known as probing classifiers, has emerged as a prominent analysis strategy in many studies of NLP models.1\n",
      "\n",
      "Despite its apparent success, the probing classifiers paradigm is not without limitations. Critiques have been made about comparative baselines, metrics, the choice of classifier, and the correlational nature of the method. In this short article, we first define the probing classifiers framework, taking care to consider the various involved components. Then we summarize the framework's shortcomings, as well as improvements and advances. This article provides a roadmap for NLP researchers who wish to examine probing classifiers more critically and highlights areas in need of additional research. \n",
      "\n",
      "The Probing Classifiers Framework\n",
      "\n",
      "On the surface, the probing classifiers idea seems straightforward. We take a model that was trained on some task, such as a language model. We generate representations using the model, and train another classifier that takes the representations and predicts some property. If the classifier performs well, we say that the model has learned information relevant for the property.\n",
      "\n",
      "However, upon closer inspection, it turns out that much more is involved here. To see this, we now define this framework a bit more formally.\n",
      "\n",
      "Let us denote by f : x maps to y-hat a model that maps input x to output y-hat. We call this model the original model. It is trained on some annotated dataset D_O = {x^(i), y^(i)}, which we refer to as the original dataset. Its performance is evaluated by some measure, denoted Perf(f, D_O).\n",
      "The function f is typically a deep neural network that generates intermediate representations of x, for example f_l(x) may denote the representation of x at layer l of f. Footnote 1: We use f_l(x) to refer more generally to any intermediate output of f when applied to x, so the framework includes analyses of other model components, such as attention weights (Clark et al. 2019). \n",
      "A probing classifier g : f_l(x) maps to z-hat maps intermediate representations to some property z-hat, which is typically some linguistic feature of interest.\n",
      "As a concrete example, f might be a sentiment analysis model, mapping a text x to a sentiment label y, while g might be a classifier mapping intermediate representations f_l(x) to part-of-speech tags z.\n",
      "The classifier g is trained and evaluated on some annotated dataset D_P = {x^(i), z^(i)}, and some performance measure Perf(g, f, D_O, D_P) (for example, accuracy) is reported. Note that the performance measure depends on the probing classifier g and the probing dataset D_P, as well as on the original model f and the original dataset D_O.\n",
      "\n",
      "From an information theoretic perspective, training the probing classifier g can be seen as estimating the mutual information between the intermediate representations f_l(x) and the property z (Belinkov, 2018; Pimentel et al. 2020; Zhu and Rudzicz, 2020), which we write I(z-hat; h-hat), where z-hat is a random variable ranging over properties z and h-hat is a random variable ranging over representations f_l(x).\n",
      "\n",
      "The above careful definition of the probing classifiers framework reveals that it is comprised of multiple concepts and components, depicted in Figure 1. The choice of each such component, and the interactions between them, lead to non-trivial questions regarding the design and implementation of any probing classifier experiment. Before we turn to these considerations in Section 3, we briefly review some history and promises of probing classifiers in the next section. \n",
      "\n",
      "Section Promises\n",
      "\n",
      "Perhaps the first studies that can be cast in the framework of probing classifiers are by Kohn et al. (2015) and Gupta et al. (2015), who trained classifiers on static word embeddings to predict various morphological, syntactic, and semantic properties. Their goals were to provide more nuanced evaluations of word embeddings compared to prior work, which only integrated them in downstream tasks.  \n",
      "Other early work classified hidden states of a recurrent neural network machine translation system into morpho-syntactic properties (Shi et al., 2016). They were motivated by the end-to-end nature of the neural machine translation system, which, compared to a phrase/syntax-based system, did not explicitly integrate such properties (so they ask: \"What kind of syntactic information is learned, and how much?\").  \n",
      "The framework has taken up a more stable form by several groups who studied sentence embeddings (Ettinger et al., 2016; Adi et al., 2017; Conneau et al., 2018) and recurrent/recursive neural networks (Belinkov et al., 2017; Hupkes, 2018). For chronological completeness, workshop and preprint versions of Hupkes et al. (2018) and Adi et al. (2017) appeared earlier. The same idea had been concurrently proposed for investigating computer vision models (Alain, 2016). \n",
      "\n",
      "A main motivation in this body of work is the opacity of the representations. \"little is known about the information that is captured by different sentence embedding learning mechanisms\" (Adi et al., 2017); \"a poor understanding of what they are capturing\" (Conneau et al., 2018); \"little is known about what and how much these models learn.\" about each language and its features (Belinkov et al., 2017). \n",
      "Compared to performance on downstream tasks, probing classifiers aim to provide more nuanced evaluations with simple properties. \"fine-grained measurement of some of the information encoded in sentence embeddings\" (Adi et al., 2017); \"simple linguistic properties of sentences\" (Conneau et al., 2018); \"assessing the specific semantic information that is being captured in sentence representations\" (Ettinger et al., 2016). \n",
      "Indeed, following the initial studies, a plethora of work has applied the framework to various models and properties, alleviating some of the opacity, at least in terms of properties encoded in the representations. See Belinkov and Glass (2019) for a comprehensive survey up to early 2019. \n",
      "There have also been numerous other studies using the probing classifier framework as is. For a partial list, see the website NLP Analysis Methods. For recent analyses focusing on the BERT model (Devlin et al., 2019), see Rogers et al., 2020. \n",
      "\n",
      "However, what can be inferred from successful probing performance is less obvious. \n",
      "Good probing performance is often taken to indicate several potential situations: \n",
      "good quality of the representations with respect to the probing property, \n",
      "readability of information found in the representations, or its extractability. \n",
      "In contrast, low probing performance is taken to indicate that the probing property is not present in the representations or is not usable. \n",
      "Sometimes, good performance is taken to indicate how the original model achieves its behavior on the original task. A linear probing classifier is thought to reveal features that are used by the original model. \n",
      "Often, different terms (quality, readability, usability, etc.) appear abstractedly without precise definitions. \n",
      "\n",
      "As we shall see, some of the above assumptions and conclusions are better accounted for than others by the probing classifiers paradigm. \n",
      "Indeed, the community has recently taken a more critical look at the methodology, which we turn to now. \n",
      "\n",
      "Section Shortcomings and Advances. Label section shortcomings advances. \n",
      "\n",
      "In light of the promises discussed above, this section reviews several limitations of the probing classifiers framework, as well as existing proposals for addressing them. We discuss comparisons and controls, how to choose the probing classifier, which causal claims can be made, the difference between datasets and tasks, and the need to define the probed properties. \n",
      "We formalize new additional components (see Figure probing components extended) in a unified framework, along with the basic components (see Figure probing components basic). \n",
      "\n",
      "Comparisons and controls\n",
      "\n",
      "A first concern with the framework is how to interpret the results of a probing classifier experiment. Suppose we run such an experiment and obtain a performance of \"Performance (g, f, D_O, D_P)\" equals 87.8. Is that a high/low number? What should we compare it to? We will denote a baseline model with \"f̲\" and an upper bound or skyline model with \"f¯\".\n",
      "\n",
      "Some studies compare with majority baselines (Belinkov et al., 2017; Conneau et al., 2018) or with classifiers trained on representations that are thought to be simpler than what the original model \"f\" produces, such as static word embeddings (Belinkov et al., 2017; Tenney et al., 2018). Others advocate for random baselines, training the classifier \"g\" on a randomized version of \"f\" (Conneau et al., 2018; Zhang and Bowman, 2018; Tenney et al., 2018; Chrupala et al., 2020). These studies show that even random features capture significant information that can be decoded by the probing classifier, so performance on learned features should be viewed in such a perspective.\n",
      "\n",
      "On the other hand, some studies compare \"Performance (g, f, D_O, D_P)\" to skylines or upper bounds \"f¯\", in an attempt to provide a point of comparison for how far probing performance is from the possible performance on the task of mapping x to z. Examples include estimating human performance (Conneau et al., 2018), reporting the state of the art from the literature (Liu et al., 2019), or training a dedicated model to predict \"z\" from \"x\", without restricting to (frozen) representations from \"f\" (Belinkov et al., 2017). \n",
      "\n",
      "Others have proposed to design controls for possible confounders. Hewitt and Liang (2019) observe that the probing performance Performance (g, f, D_O, D_P) may tell us more about the probe g than about the model f. The probe g may memorize information from D_P, rather than evaluate information found in representations f(x). They design control tasks, which a probe may only solve by memorizing. In particular, they randomize the labels in D_P, creating a new dataset D_P,Rand. Then, they define selectivity as the difference between the probing performance on the probing task and the control task: Selectivity (g, f, D_O, D_P, D_P,Rand) equals Performance (g, f, D_O, D_P) minus Performance (g, f, D_O, D_P,Rand). They show that probes may have high accuracy, but low selectivity, and that linear probes tend to have high selectivity, while non-linear probes tend to have low selectivity. This indicates that high accuracy of non-linear probes may come from memorization of surface patterns by the probe g, rather than from information captured in the representations f(x).\n",
      "\n",
      "The control tasks introduced by Hewitt and Liang (2019) are particularly suited for word-level properties z as they evaluate memorization of word types; it is less clear how to apply this idea more broadly, such as in sentence-level properties.\n",
      "\n",
      "Taking an information-theoretic perspective on probing, Pimentel et al. (2020) proposed to use control functions instead of control tasks in order to compare probes. Their control function is any function applied to the representation, c : f(x) maps to c(f(x)), and they compare the information gain, which is the difference in mutual information between the property z and the representation before and after applying the control function: G(z, h, c) equals I(z ; h) minus I(z ; c(h)). While Pimentel et al. (2020) posit that their control function are a better criterion than the control tasks of Hewitt and Liang (2019), subsequent work showed that the two criteria are almost equivalent, both theoretically and empirically (Zhu and Rudzicz, 2020).\n",
      "\n",
      "Another kind of control is proposed by Ravichander et al. (2021), who design control datasets, where the linguistic property z is not discriminative with respect to the original task of mapping x to y. That is, they modify D_O and create a new dataset, D_O,z, where all examples have the same value for property z. Intuitively, a model f trained on D_O,z should not pick up information about z, since it is not useful for the task of f. They show that a probe g may learn to predict property z incidentally, even when it is not discriminative with respect to the original task of mapping x to y, casting doubts on causal claims concerning the effect that a property encoded in the representation may have on the original task. While they create control datasets for probing sentence-level information, the same idea can be applied to word-level properties. \n",
      "\n",
      "Which classifier to use?\n",
      "\n",
      "Another concern is the choice of the probing classifier $g$: \n",
      "What should be its structure? What role does its expressivity play in drawing conclusions about the original model $f$? \n",
      "\n",
      "Some studies advocate for using simple probes, such as linear classifiers (Alain et al., 2016; Hupkes et al., 2018; Liu et al., 2019; Hall et al., 2020). Somewhat anecdotally, a few studies observed better performance with more complex probes, but reported similar relative trends (Conneau et al., 2018; Belinkov, 2018). That is, a ranking  \n",
      "\"Performance of $g$ on $f_1$ with $\\mathcal{D}_O$, $\\mathcal{D}_P$ is greater than performance of $g$ on $f_2$ with $\\mathcal{D}_O$, $\\mathcal{D}_P$,\" of two representations $f_1(x)$ and $f_2(x)$, holds across different probes $g$. \n",
      "However, this pattern may be flipped under alternative measures, such as selectivity (Hewitt and Liang, 2019). \n",
      "\n",
      "Several studies considered the complexity of the probe $g$ in more detail. Pimentel et al. (2020) argue that, in order to give the best estimate about the information that model $f$ has about property $z$, the most complex probe should be used. \n",
      "In a more practical view, Voita and Titov (2020) propose to measure both the performance of the probe $g$ and its complexity, by estimating the minimum description length of the code required to transmit property $z$ knowing the representations $f_l(x)$: \n",
      "MDL of $g, f, \\mathcal{D}_O, \\mathcal{D}_P$.\n",
      "Note that this measure again depends on the probe $g$, the model $f$, and their respective datasets $\\mathcal{D}_O$ and  $\\mathcal{D}_P$. \n",
      "They found that MDL provides more information about how a probe $g$ works, for instance by revealing differences in complexity of probes when performing control tasks from $\\mathcal{D}_{P,Rand}$, as in Hewitt and Liang (2019). \n",
      "Pimentel et al. (2020) argue that probing work should report the possible trade-offs between accuracy and complexity, along a range of probes $g$, and call for using probes that are both simple and accurate. \n",
      "While they study a number of linear and non-linear multi-layered perceptrons, one could extend this idea to other classes of probes. Indeed, Cao et al. (2021) design a pruning-based probe, which learns a mask on weights of $f$ and obtains a better accuracy--complexity trade-off than a non-linear probe. \n",
      "\n",
      "Another line of work proposes methods to extract linguistic information from a trained model without learning additional parameters. In particular, much work has used some sort of pairwise importance score between words in a sentence as a signal for inferring linguistic properties, either full syntactic parsing or more fine-grained properties such as coreference resolution. These scores may come from attention weights (Raganato & Tiedemann, 2018; Clark et al., 2019; Marecek & Rosa, 2019; Htut, 2019) or from distances between word representations, perhaps including perturbations of the input sentence (Wu et al., 2020). The pairwise scores can feed into some general parsing algorithm, such as the Chu-Liu Edmonds algorithm (Edmonds, 1967). Alternatively, some work has used representational similarity analysis to measure similarity between word or sentence representations and syntactic properties, both local properties like determining a verb's subject (Lepori & McCoy, 2020) and more structured properties like inferring the full syntactic tree (Chrupala & Alishahi, 2019). Also related is work on clustering representations with respect to linguistic property and classifying by cluster assignment (Zhou & Srikumar, 2021).  \n",
      "This line of work can be seen as a parameter-less probing classifier $g$: a linguistic property is inferred from internal model components (representations, attention weights), without needing to learn new parameters. Thus, such work avoids some of the issues about what the probe learns. Additionally, from the perspective of an accuracy--complexity trade-off, such work should perhaps be placed on the low end of the complexity axis, although the complexity of the parsing algorithm could also be taken into account.   \n",
      "\n",
      "Subsection: Correlation versus causation\n",
      "\n",
      "A main limitation of the probing classifier paradigm is the disconnect between the probing classifier g and the original model f. They are trained in two different steps, where f is trained once and only used to generate feature representations f sub l of x, which are fed into g. Once we have f sub l of x, we get a probing performance from g, which tells us something about the information in f sub l of x. However, in the process, we have forgotten about the original task assigned to f, which was to predict y. This raises an important question, which early work has largely taken for granted (see Section 2): Does model f use the information discovered by probe g? In other words, the probing framework may indicate correlations between representations f sub l of x and linguistic property z, but it does not tell us whether this property is involved in predictions of f. Indeed, several studies pointed out this limitation (Belinkov and Glass, 2019), including reports on a mismatch between performance of the probe, Perf(g, f, D sub O, D sub P), and performance of the original model, Perf(f, D sub O) (Vanmassenhove & DuWay, 2017). In contrast, Lovering et al. (2021) find that extractability of a property according to MDL(g, f, D sub O, D sub P) is correlated with f making predictions consistent with that property. Relatedly, Tamkin et al. (2020) find a discrepancy between features f sub l of x obtaining high probing performance, Perf(g, f, D sub O, D sub P), and features identified as important when fine-tuning f while performing the probing task f sub l of x maps to z. They reveal this by randomizing the weights of specific layers when fine-tuning f, which can be seen as a kind of intervention. \n",
      "\n",
      "Indeed, a number of studies have proposed improvements to the probing classifier paradigm, which aim to discover causal effects by intervening in representations of the model f. Giulianelli et al. (2018) use gradients from g to modify the representations in f and evaluate how this change affects both the probing performance and the original model performance. In their case, f is a language model and g predicts subject-verb number agreement. They find that their intervention increases probing performance, as may be expected. Interestingly, while in the general language modeling case the intervention has a small effect on the original model performance, Perf(f, D_O), they find an increase in this performance on examples designed to assess number agreement. They conclude that probing classifiers can identify features that are actually used by the model. Tucker et al. (2021) also use probe gradients to update the representations f_l(x) with respect to z, resulting in what they call counterfactual representations, and measure the effect on other properties. Similarly, Elazar et al. (2020) remove certain properties z (such as parts of speech or syntactic dependencies) from representations in f by repeatedly training (linear) probing classifiers g and projecting them out of the representation. This results in a modified representation f_l(x), which has less information about z. They compare the probing performance to the performance on the original task (in their case, language modeling) after the removal of said features. They find that high probing performance Perf(g, f, D_O, D_P) does not necessarily entail a large drop in original task performance after their removal, that is, Perf(f~, D_O). Thus, contrary to Giulianelli et al. (2018), they conclude that probing classifiers do not always identify features that are actually used by the model. In a similar vein, Feder et al. (2020) remove properties z from representations in f by training g adversarially. At the same time, another probing classifier g_C is trained positively, aiming to control for properties z_C that should not be removed from f. A major difference from standard probing classifiers work is the continued updating of f. They find that they can accurately estimate the effect of properties z on downstream tasks performed by f when it is fine-tuned. Other studies that perform interventions to interpret NLP models without involving probing classifiers (e.g., Bau et al., 2018; Lakretz et al., 2019; Vig et al., 2020) are left out of the present scope. \n",
      "\n",
      "Subsection: Datasets vs. tasks\n",
      "\n",
      "The probing paradigm aims to study models performing some task (f: x maps to y-hat) via a classifier performing another task (g: f sub l of x maps to z-hat). However, in practice these tasks are operationalized via finite datasets. Ravichander et al. (2021) point out that datasets are imperfect proxies for tasks. Indeed, the effect of the choice of datasets—both the original dataset D sub O and the probing dataset D sub P—has not been widely studied. Furthermore, we ideally want to disentangle the role of each dataset from the role of the original model f and probing classifier g. Unfortunately, models f tend to be trained on different datasets D sub O, making statements about models confounded with issues of datasets. Some prior work acknowledged that conclusions can only be made about the existing trained models, not about general architectures (Liu et al., 2019). However, in an ideal world, we would compare different architectures {f to the power of i} trained on the same dataset D sub O or the same f trained on different datasets {D sub O to the power of i}. Concerning the latter, Zhang et al. (2021) found that models require less data to encode syntactic and semantic properties compared to commonsense knowledge. More such experiments are currently lacking.\n",
      "\n",
      "The effect of the probing dataset D sub P—its size, composition, etc.—is similarly not well studied. While some work reported results on multiple datasets when predicting the same property z (e.g., Belinkov et al., 2017), more careful investigations are needed. \n",
      "\n",
      "Properties must be pre-defined. \n",
      "\n",
      "Finally, inherent to the probing classifier framework is determining a property z to probe for. This limits the investigation in multiple ways: It constrains the work to existing annotated datasets, which are often limited to English and certain properties. It also requires focusing on properties z that are thought to be relevant to the task of mapping x to y a-priori, potentially leading to biased conclusions.\n",
      "\n",
      "In an isolated effort to alleviate this limitation, Michael et al. (2020) propose to learn latent clusters useful for predicting a property z. They discover clusters corresponding to known properties (such as personhood) as well as new categories, which are not usually annotated in common datasets. Still, probing classifiers are so far mainly useful when one has prior expectations about which properties z might be relevant with respect to a given task. \n",
      "\n",
      "Summary\n",
      "\n",
      "Given the various limitations discussed in this article, one might ask: What are probing classifiers good for? In line with the original motivation to alleviate the opacity of learned representations, work using probing classifiers has characterized them along a range of fine-grained properties. However, we have discussed several reservations regarding which insights can be drawn from a probing classifier experiment. Absolute claims about representation quality seem difficult to make. Yet recent improvements to the framework, such as better controls and metrics, allow us to make relative claims and answer questions like how extractable a property is from a representation. And causal approaches (section 'causal') may reveal which properties are used by the original model.\n",
      "\n",
      "One might hope that probing classifier experiments would suggest ways to improve the quality of the probed model or to direct it to be better tuned to some use or task. Presently, there are few such successful examples. For instance, earlier results showing that lower layers in language models focus on local phenomena while higher layers focus on global ones (using probing classifiers and other methods) motivated Cao et al. (2020) to decouple a question-answering model, such that lower layers process the question and the passage independently and higher layers process them jointly. An analysis of redundancy in language models (again using probing classifiers and other methods) motivated an efficient transfer-learning procedure. An analysis of phonetic information in layers of a speech recognition systems partly motivated Krishna et al. to propose multi-task learning with phonetic supervision on intermediate layers. Belinkov et al. discuss how their probing experiments can guide the selection of which machine translation models to use when translating specific languages. Finally, when considering using the representations for some downstream task, probing experiments can indicate which information is encoded, or can easily be extracted, from these representations.\n",
      "\n",
      "To conclude, our critical review of the probing classifiers framework reveals that it is more complicated than may seem. When designing a probing classifier experiment, we advise researchers to take the various controls and alternative measures into account. Naturally, one should clearly define the original task/dataset/model and the probing task/dataset/classifier. It is important to set upper and lower bounds, and to consider proper controls, via either control tasks (for word-level properties) or datasets (for sentence-level properties). Depending on goals, one may want to measure the probe's complexity (if ease of extractability is in question), report the accuracy-complexity trade-off (when designing new probes), or perform an intervention (to measure usage of information by the original model). When possible, using parameter-free probes may circumvent some of the challenges with parameterized probes. We do not argue that every study must perform all the various controls and report all the alternative measures summarized here. However, future work seeking to use probing classifiers would do well to take into account the complexity of the framework, its apparent shortcomings, and available advances.\n",
      "\n",
      "Acknowledgments\n",
      "\n",
      "This research was supported by the ISRAEL SCIENCE FOUNDATION (grant No. 448/20) and by an Azrieli Foundation Early Career Faculty Fellowship.\n",
      "\n",
      "Bibliography\n",
      "\n",
      "\\bibliography{compling_style}\n",
      "\n",
      "End of document. \n",
      "\n",
      "Given the various limitations discussed in this article, one might ask: \n",
      "What are probing classifiers good for? In line with the original motivation to alleviate the opacity of learned representations, work using probing classifiers has characterized them along a range of fine-grained properties. \n",
      "However, we have discussed several reservations regarding which insights can be drawn from a probing classifier experiment. \n",
      "Absolute claims about representation quality seem difficult to make. \n",
      "Yet recent improvements to the framework, such as better controls and metrics, allow us to make relative claims and answer questions like how extractable a property is from a representation.  \n",
      "And causal approaches (section causal) may reveal which properties are used by the original model. \n",
      "\n",
      "\n",
      "One might hope that probing classifier experiments would suggest ways to improve the quality of the probed model or to direct it to be better tuned to some use or task. Presently, there are few such successful examples. For instance, earlier results showing that lower layers in language models focus on local phenomena while higher layers focus on global ones (using probing classifiers and other methods) motivated Cao et al. 2020 to decouple a question-answering model, such that lower layers process the question and the passage independently and higher layers process them jointly. \n",
      "An analysis of redundancy in language models (again using probing classifiers and other methods) motivated an efficient transfer-learning procedure (Dalvi et al. 2020). \n",
      "An analysis of phonetic information in layers of a speech recognition systems (NIPS 2017) partly motivated Krishna et al. 2018 to propose multi-task learning with phonetic supervision on intermediate layers.  \n",
      "Belinkov et al. 2020 discuss how their probing experiments can guide the selection of which machine translation models to use when translating specific languages. \n",
      "Finally, when considering using the representations for some downstream task, probing experiments can indicate which information is encoded, or can easily be extracted, from these representations. \n",
      "\n",
      "\n",
      "\n",
      "To conclude, our critical review of the probing classifiers framework reveals that it is more complicated than may seem. \n",
      "When designing a probing classifier experiment, we advise researchers to take the various controls and alternative measures into account. Naturally, one should clearly define the original task/dataset/model and the probing task/dataset/classifier. It is important to set upper and lower bounds, and to consider proper controls, via either control tasks (for word-level properties) or datasets (for sentence-level properties). Depending on goals, one may want to measure the probe's complexity (if ease of extractability is in question), report the accuracy--complexity trade-off (when designing new probes), or perform an intervention (to measure usage of information by the original model). When possible, using parameter-free probes may circumvent some of the challenges with parameterized probes. \n",
      "We do not argue that every study must perform all the various controls and report all the alternative measures summarized here. \n",
      "However, future work seeking to use probing classifiers would do well to take into account the complexity of the framework, its apparent shortcomings, and available advances. \n",
      "\n",
      "\n",
      "Acknowledgments:\n",
      "This research was supported by the ISRAEL SCIENCE FOUNDATION (grant No. 448/20) and by an Azrieli Foundation Early Career Faculty Fellowship. \n",
      "\n",
      "\n"
     ]
    }
   ],
   "source": [
    "print(text)"
   ]
  },
  {
   "cell_type": "code",
   "execution_count": 144,
   "id": "83f5c337",
   "metadata": {
    "ExecuteTime": {
     "end_time": "2024-03-02T20:25:12.186891Z",
     "start_time": "2024-03-02T20:25:12.181684Z"
    }
   },
   "outputs": [],
   "source": [
    "split_index = snippet.find('\\n', len(snippet) // 4)\n",
    "snippet_part1 = snippet[:split_index]\n",
    "snippet_part2 = snippet[split_index + 1:]"
   ]
  },
  {
   "cell_type": "code",
   "execution_count": 145,
   "id": "c361d6c0",
   "metadata": {
    "ExecuteTime": {
     "end_time": "2024-03-02T20:25:15.883058Z",
     "start_time": "2024-03-02T20:25:15.875591Z"
    }
   },
   "outputs": [
    {
     "data": {
      "text/plain": [
       "'Section: Correlation versus causation\\n\\nA main limitation of the probing classifier paradigm is the disconnect between the probing classifier $g$ and the original model $f$. They are trained in two different steps, where $f$ is trained once and only used to generate feature representations $f_l(x)$, which are fed into $g$. Once we have $f_l(x)$, we get a probing performance from $g$, which tells us something about the information in $f_l(x)$. However, in the process, we have forgotten about the original task assigned to $f$, which was to predict $y$. This raises an important question, which early work has largely taken for granted (Section: Promises): Does model $f$ use the information discovered by probe $g$? In other words, the probing framework may indicate correlations between representations $f_l(x)$ and linguistic property $z$, but it does not tell us whether this property is involved in predictions of $f. Indeed, several studies pointed out this limitation (Belinkov & Glass, 2019), including reports on a mismatch between performance of the probe, Perf($g, f, \\\\mathcal{D}_O, \\\\mathcal{D}_P$), and performance of the original model, Perf($f, \\\\mathcal{D}_O$) (Vanmassenhove & DuWay, 2017). In contrast, Lovering et al. (2021) find that extractability of a property according to MDL($g, f, \\\\mathcal{D}_O, \\\\mathcal{D}_P$) is correlated with $f$ making predictions consistent with that property. Relatedly, Tamkin et al. (2020) find a discrepancy between features $f_l(x)$ obtaining high probing performance, Perf($g, f, \\\\mathcal{D}_O, \\\\mathcal{D}_P$), and features identified as important when fine-tuning $f$ while performing the probing task $f_l(x) \\\\mapsto z$. They reveal this by randomizing the weights of specific layers when fine-tuning $f$, which can be seen as a kind of intervention.'"
      ]
     },
     "execution_count": 145,
     "metadata": {},
     "output_type": "execute_result"
    }
   ],
   "source": [
    "snippet_part1"
   ]
  },
  {
   "cell_type": "code",
   "execution_count": 151,
   "id": "130dd881",
   "metadata": {
    "ExecuteTime": {
     "end_time": "2024-03-02T21:21:03.894731Z",
     "start_time": "2024-03-02T21:21:03.697282Z"
    }
   },
   "outputs": [],
   "source": [
    "!git add ."
   ]
  },
  {
   "cell_type": "code",
   "execution_count": 152,
   "id": "25e41715",
   "metadata": {
    "ExecuteTime": {
     "end_time": "2024-03-02T21:21:18.659620Z",
     "start_time": "2024-03-02T21:21:18.461932Z"
    }
   },
   "outputs": [
    {
     "name": "stdout",
     "output_type": "stream",
     "text": [
      "[main 523f0da] add more streamlined workflow\r\n",
      " 2 files changed, 338 insertions(+), 35 deletions(-)\r\n",
      " rename prompt_engineering.ipynb => scratch.ipynb (99%)\r\n",
      " create mode 100644 tex_to_audio_generation.ipynb\r\n"
     ]
    }
   ],
   "source": [
    "!git commit -m \"add more streamlined workflow\""
   ]
  },
  {
   "cell_type": "code",
   "execution_count": 153,
   "id": "bea25187",
   "metadata": {
    "ExecuteTime": {
     "end_time": "2024-03-02T21:21:23.537324Z",
     "start_time": "2024-03-02T21:21:22.470633Z"
    }
   },
   "outputs": [
    {
     "name": "stdout",
     "output_type": "stream",
     "text": [
      "Enumerating objects: 5, done.\n",
      "Counting objects: 100% (5/5), done.\n",
      "Delta compression using up to 8 threads\n",
      "Compressing objects: 100% (4/4), done.\n",
      "Writing objects: 100% (4/4), 58.28 KiB | 9.71 MiB/s, done.\n",
      "Total 4 (delta 0), reused 0 (delta 0), pack-reused 0\n",
      "remote: This repository moved. Please use the new location:\u001b[K\n",
      "remote:   https://github.com/ericcccsliu/tex_to_speech.git\u001b[K\n",
      "To https://github.com/ericcccsliu/paper_to_speech.git\n",
      "   bd12d0b..523f0da  main -> main\n"
     ]
    }
   ],
   "source": [
    "!git push"
   ]
  },
  {
   "cell_type": "code",
   "execution_count": null,
   "id": "945ccade",
   "metadata": {},
   "outputs": [],
   "source": []
  }
 ],
 "metadata": {
  "kernelspec": {
   "display_name": "Python 3 (ipykernel)",
   "language": "python",
   "name": "python3"
  },
  "language_info": {
   "codemirror_mode": {
    "name": "ipython",
    "version": 3
   },
   "file_extension": ".py",
   "mimetype": "text/x-python",
   "name": "python",
   "nbconvert_exporter": "python",
   "pygments_lexer": "ipython3",
   "version": "3.9.7"
  },
  "toc": {
   "base_numbering": 1,
   "nav_menu": {},
   "number_sections": true,
   "sideBar": true,
   "skip_h1_title": false,
   "title_cell": "Table of Contents",
   "title_sidebar": "Contents",
   "toc_cell": false,
   "toc_position": {},
   "toc_section_display": true,
   "toc_window_display": false
  }
 },
 "nbformat": 4,
 "nbformat_minor": 5
}
